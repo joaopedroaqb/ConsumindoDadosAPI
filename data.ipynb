{
  "nbformat": 4,
  "nbformat_minor": 0,
  "metadata": {
    "colab": {
      "provenance": []
    },
    "kernelspec": {
      "name": "python3",
      "display_name": "Python 3"
    },
    "language_info": {
      "name": "python"
    }
  },
  "cells": [
    {
      "cell_type": "code",
      "execution_count": 15,
      "metadata": {
        "id": "vRmdlBhX09n9"
      },
      "outputs": [],
      "source": [
        "import requests"
      ]
    },
    {
      "cell_type": "code",
      "source": [
        "API_KEY = \"47cedf22360d637961bfac8ee18c082745d8dc0d1b1f76d687b3efb68f305ae9\"\n",
        "BASE_URL = \"https://apiv3.apifootball.com\""
      ],
      "metadata": {
        "id": "ltkQmTN31Cdy"
      },
      "execution_count": 6,
      "outputs": []
    },
    {
      "cell_type": "code",
      "source": [
        "def getCountriesAvaliable():\n",
        "  responseGetCountries = requests.get(f'{BASE_URL}/?action=get_countries&APIkey={API_KEY}')\n",
        "  listaCountriesFilteredWithoutCountryLogo = []\n",
        "\n",
        "  for country in responseGetCountries.json():\n",
        "    country.pop('country_logo', None)\n",
        "    listaCountriesFilteredWithoutCountryLogo.append(country)\n",
        "\n",
        "    return listaCountriesFilteredWithoutCountryLogo\n",
        "\n",
        "def getCompetitions(country_id):\n",
        "  responseGetCompetitions = requests.get(f'{BASE_URL}/?action=get_leagues&country_id={country_id}&APIkey={API_KEY}')\n",
        "  listComptetitionsFilteredeWithouthLogo = []\n",
        "\n",
        "  for competition in responseGetCompetitions.json():\n",
        "    competition.pop('league_logo', None)\n",
        "    competition.pop('contry_logo', None)\n",
        "    listComptetitionsFilteredeWithouthLogo.append(competition)\n",
        "\n",
        "  return listComptetitionsFilteredeWithouthLogo\n",
        "\n",
        "print(getCountriesAvaliable())\n",
        "print(getCompetitions(44))\n",
        "print(getCompetitions(6))"
      ],
      "metadata": {
        "colab": {
          "base_uri": "https://localhost:8080/"
        },
        "id": "DZk3uxJ71GlJ",
        "outputId": "c6843eae-af70-4ff3-873d-225173f90a9f"
      },
      "execution_count": 14,
      "outputs": [
        {
          "output_type": "stream",
          "name": "stdout",
          "text": [
            "[{'country_id': '10', 'country_name': 'Albania'}]\n",
            "[{'country_id': '44', 'country_name': 'England', 'league_id': '153', 'league_name': 'Championship', 'league_season': '2023/2024', 'country_logo': 'https://apiv3.apifootball.com/badges/logo_country/44_england.png'}, {'country_id': '44', 'country_name': 'England', 'league_id': '377', 'league_name': 'Community Shield', 'league_season': '2023/2024', 'country_logo': 'https://apiv3.apifootball.com/badges/logo_country/44_england.png'}, {'country_id': '44', 'country_name': 'England', 'league_id': '146', 'league_name': 'FA Cup', 'league_season': '2023/2024', 'country_logo': 'https://apiv3.apifootball.com/badges/logo_country/44_england.png'}, {'country_id': '44', 'country_name': 'England', 'league_id': '147', 'league_name': 'League Cup', 'league_season': '2023/2024', 'country_logo': 'https://apiv3.apifootball.com/badges/logo_country/44_england.png'}, {'country_id': '44', 'country_name': 'England', 'league_id': '154', 'league_name': 'League One', 'league_season': '2023/2024', 'country_logo': 'https://apiv3.apifootball.com/badges/logo_country/44_england.png'}, {'country_id': '44', 'country_name': 'England', 'league_id': '145', 'league_name': 'League Two', 'league_season': '2023/2024', 'country_logo': 'https://apiv3.apifootball.com/badges/logo_country/44_england.png'}, {'country_id': '44', 'country_name': 'England', 'league_id': '152', 'league_name': 'Premier League', 'league_season': '2023/2024', 'country_logo': 'https://apiv3.apifootball.com/badges/logo_country/44_england.png'}, {'country_id': '44', 'country_name': 'England', 'league_id': '148', 'league_name': 'EFL Trophy', 'league_season': '2023/2024', 'country_logo': 'https://apiv3.apifootball.com/badges/logo_country/44_england.png'}, {'country_id': '44', 'country_name': 'England', 'league_id': '144', 'league_name': 'FA Trophy', 'league_season': '2023/2024', 'country_logo': 'https://apiv3.apifootball.com/badges/logo_country/44_england.png'}, {'country_id': '44', 'country_name': 'England', 'league_id': '655', 'league_name': \"FA Women's League Cup\", 'league_season': '2023/2024', 'country_logo': 'https://apiv3.apifootball.com/badges/logo_country/44_england.png'}, {'country_id': '44', 'country_name': 'England', 'league_id': '151', 'league_name': 'National League', 'league_season': '2023/2024', 'country_logo': 'https://apiv3.apifootball.com/badges/logo_country/44_england.png'}, {'country_id': '44', 'country_name': 'England', 'league_id': '150', 'league_name': 'National League N / S', 'league_season': '2023/2024', 'country_logo': 'https://apiv3.apifootball.com/badges/logo_country/44_england.png'}, {'country_id': '44', 'country_name': 'England', 'league_id': '752', 'league_name': 'National League N / S', 'league_season': '2023/2024', 'country_logo': 'https://apiv3.apifootball.com/badges/logo_country/44_england.png'}, {'country_id': '44', 'country_name': 'England', 'league_id': '143', 'league_name': 'Non League Div One', 'league_season': '2023/2024', 'country_logo': 'https://apiv3.apifootball.com/badges/logo_country/44_england.png'}, {'country_id': '44', 'country_name': 'England', 'league_id': '149', 'league_name': 'Non League Premier', 'league_season': '2023/2024', 'country_logo': 'https://apiv3.apifootball.com/badges/logo_country/44_england.png'}, {'country_id': '44', 'country_name': 'England', 'league_id': '593', 'league_name': 'Premier League 2', 'league_season': '2022/2023', 'country_logo': 'https://apiv3.apifootball.com/badges/logo_country/44_england.png'}, {'country_id': '44', 'country_name': 'England', 'league_id': '716', 'league_name': 'Premier League Cup', 'league_season': '2023/2024', 'country_logo': 'https://apiv3.apifootball.com/badges/logo_country/44_england.png'}, {'country_id': '44', 'country_name': 'England', 'league_id': '7978', 'league_name': 'Premier League Summer Series', 'league_season': '2023', 'country_logo': 'https://apiv3.apifootball.com/badges/logo_country/44_england.png'}, {'country_id': '44', 'country_name': 'England', 'league_id': '614', 'league_name': 'Professional Development League', 'league_season': '2023/2024', 'country_logo': 'https://apiv3.apifootball.com/badges/logo_country/44_england.png'}, {'country_id': '44', 'country_name': 'England', 'league_id': '622', 'league_name': 'U18 Premier League', 'league_season': '2023/2024', 'country_logo': 'https://apiv3.apifootball.com/badges/logo_country/44_england.png'}, {'country_id': '44', 'country_name': 'England', 'league_id': '652', 'league_name': \"Women's Championship\", 'league_season': '2023/2024', 'country_logo': 'https://apiv3.apifootball.com/badges/logo_country/44_england.png'}, {'country_id': '44', 'country_name': 'England', 'league_id': '650', 'league_name': \"Women's FA Cup\", 'league_season': '2023/2024', 'country_logo': 'https://apiv3.apifootball.com/badges/logo_country/44_england.png'}, {'country_id': '44', 'country_name': 'England', 'league_id': '651', 'league_name': \"Women's Super League\", 'league_season': '2023/2024', 'country_logo': 'https://apiv3.apifootball.com/badges/logo_country/44_england.png'}, {'country_id': '44', 'country_name': 'England', 'league_id': '458', 'league_name': 'Women’s FA Community Shield', 'league_season': '2020/2021', 'country_logo': 'https://apiv3.apifootball.com/badges/logo_country/44_england.png'}]\n",
            "[{'country_id': '6', 'country_name': 'Spain', 'league_id': '300', 'league_name': 'Copa del Rey', 'league_season': '2023/2024', 'country_logo': 'https://apiv3.apifootball.com/badges/logo_country/6_spain.png'}, {'country_id': '6', 'country_name': 'Spain', 'league_id': '302', 'league_name': 'La Liga', 'league_season': '2023/2024', 'country_logo': 'https://apiv3.apifootball.com/badges/logo_country/6_spain.png'}, {'country_id': '6', 'country_name': 'Spain', 'league_id': '301', 'league_name': 'Segunda División', 'league_season': '2023/2024', 'country_logo': 'https://apiv3.apifootball.com/badges/logo_country/6_spain.png'}, {'country_id': '6', 'country_name': 'Spain', 'league_id': '383', 'league_name': 'Super Cup', 'league_season': '2023/2024', 'country_logo': 'https://apiv3.apifootball.com/badges/logo_country/6_spain.png'}, {'country_id': '6', 'country_name': 'Spain', 'league_id': '615', 'league_name': 'Copa Federacion', 'league_season': '2023/2024', 'country_logo': 'https://apiv3.apifootball.com/badges/logo_country/6_spain.png'}, {'country_id': '6', 'country_name': 'Spain', 'league_id': '13', 'league_name': 'Primera División Femenina', 'league_season': '2023/2024', 'country_logo': 'https://apiv3.apifootball.com/badges/logo_country/6_spain.png'}, {'country_id': '6', 'country_name': 'Spain', 'league_id': '299', 'league_name': 'Primera División RFEF', 'league_season': '2023/2024', 'country_logo': 'https://apiv3.apifootball.com/badges/logo_country/6_spain.png'}, {'country_id': '6', 'country_name': 'Spain', 'league_id': '700', 'league_name': 'Segunda División RFEF', 'league_season': '2023/2024', 'country_logo': 'https://apiv3.apifootball.com/badges/logo_country/6_spain.png'}, {'country_id': '6', 'country_name': 'Spain', 'league_id': '298', 'league_name': 'Tercera División RFEF', 'league_season': '2023/2024', 'country_logo': 'https://apiv3.apifootball.com/badges/logo_country/6_spain.png'}]\n"
          ]
        }
      ]
    }
  ]
}